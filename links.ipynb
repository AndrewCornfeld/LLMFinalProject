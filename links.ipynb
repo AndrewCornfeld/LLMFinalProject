{
  "nbformat": 4,
  "nbformat_minor": 0,
  "metadata": {
    "colab": {
      "provenance": []
    },
    "kernelspec": {
      "name": "python3",
      "display_name": "Python 3"
    },
    "language_info": {
      "name": "python"
    }
  },
  "cells": [
    {
      "cell_type": "code",
      "execution_count": null,
      "metadata": {
        "id": "XKy1hXwDRd1P"
      },
      "outputs": [],
      "source": [
        "import requests\n",
        "from bs4 import BeautifulSoup\n",
        "from urllib.parse import urljoin\n"
      ]
    },
    {
      "cell_type": "code",
      "source": [
        "visited = set()\n",
        "\n",
        "def crawl(url, depth=2):\n",
        "    if url in visited or depth == 0:\n",
        "        return\n",
        "    visited.add(url)\n",
        "    try:\n",
        "        response = requests.get(url)\n",
        "        soup = BeautifulSoup(response.text, \"html.parser\")\n",
        "        for link in soup.find_all(\"a\", href=True):\n",
        "            next_url = urljoin(url, link[\"href\"])\n",
        "            if next_url.startswith(\"https://\"):\n",
        "                #print(next_url)\n",
        "                crawl(next_url, depth - 1)\n",
        "    except:\n",
        "        pass\n",
        "\n",
        "start_url = \"https://virginia.edu\"\n",
        "crawl(start_url)\n",
        "print(\"\\n\".join(visited))"
      ],
      "metadata": {
        "id": "yNU3LHJsTcIj"
      },
      "execution_count": null,
      "outputs": []
    }
  ]
}